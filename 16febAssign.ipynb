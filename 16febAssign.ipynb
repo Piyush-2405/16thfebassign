{
 "cells": [
  {
   "cell_type": "markdown",
   "id": "9bd9d362-7fc8-4d69-b434-c49c7460b85d",
   "metadata": {},
   "source": [
    "Q1. What is a database? Differentiate between SQL and NoSQL databases."
   ]
  },
  {
   "cell_type": "markdown",
   "id": "73306a94-f37c-46b8-93cf-6177d37bbb61",
   "metadata": {},
   "source": [
    "A database is an organized collection of structured information, or data, typically stored electronically in a computer system. A database is usually controlled by a database management system (DBMS).\n",
    "\n",
    "The Main Differences: \n",
    "\n",
    "1.Type – \n",
    "SQL databases are primarily called as Relational Databases (RDBMS); whereas NoSQL database are primarily called as non-relational or distributed database. \n",
    "\n",
    "2.Language – \n",
    "SQL databases defines and manipulates data based structured query language (SQL). It can be restrictive. SQL requires you to use predefined schemas to determine the structure of your data before you work with it. Also all of your data must follow the same structure, which means that a change in the structure would be both difficult and disruptive to your whole system. \n",
    "\n",
    "A NoSQL database has dynamic schema for unstructured data. Data is stored in many ways which means it can be document-oriented, column-oriented, graph-based or organized as a KeyValue store. This flexibility means that documents can be created without having defined structure first. Also each document can have its own unique structure. The syntax varies from database to database, and you can add fields as you go. \n",
    "\n",
    "3.Scalability – \n",
    "In almost all situations SQL databases are vertically scalable. This means that you can increase the load on a single server by increasing things like RAM, CPU or SSD. But on the other hand NoSQL databases are horizontally scalable. This means that you handle more traffic by sharding, or adding more servers in your NoSQL database. It is similar to adding more floors to the same building versus adding more buildings to the neighborhood. Thus NoSQL can ultimately become larger and more powerful, making these databases the preferred choice for large or ever-changing data sets.\n",
    "\n",
    "4.Structure – \n",
    "SQL databases are table-based on the other hand NoSQL databases are either key-value pairs, document-based, graph databases or wide-column stores. This makes relational SQL databases a better option for applications that require multi-row transactions such as an accounting system or for legacy systems that were built for a relational structure. \n",
    "\n",
    "5.Property followed – \n",
    "SQL databases follow ACID properties (Atomicity, Consistency, Isolation and Durability) whereas the NoSQL database follows the Brewers CAP theorem (Consistency, Availability and Partition tolerance). \n",
    "\n",
    "6.Support – \n",
    "Great support is available for all SQL database from their vendors. Also a lot of independent consultations are there who can help you with SQL database for a very large scale deployments but for some NoSQL database you still have to rely on community support and only limited outside experts are available for setting up and deploying your large scale NoSQL deployments."
   ]
  },
  {
   "cell_type": "markdown",
   "id": "b03f4dd4-8727-4a2a-9ba7-fde5922859ff",
   "metadata": {},
   "source": [
    "Q2. What is DDL? Explain why CREATE, DROP, ALTER, and TRUNCATE are used with an example."
   ]
  },
  {
   "cell_type": "markdown",
   "id": "1792dbce-d319-481d-9e0b-76a9ea33b535",
   "metadata": {},
   "source": [
    "< Data Definition Language(DDL) is a subset of SQL and a part of DBMS(Database Management System). DDL consist of Commands to commands like CREATE, ALTER, TRUNCATE and DROP. These commands are used to create or modify the tables in SQL.\n",
    "\n",
    "CREATE :\n",
    "This command is used to create a new table in SQL. The user has to give information like table name, column names, and their datatypes.\n",
    "\n",
    "Example:\n",
    "CREATE TABLE Student_info\n",
    "(\n",
    "College_Id number(2),\n",
    "College_name varchar(30),\n",
    "Branch varchar(10)\n",
    ");\n",
    "\n",
    "ALTER :\n",
    "This command is used to add, delete or change columns in the existing table. The user needs to know the existing table name and can do add, delete or modify tasks easily.\n",
    "\n",
    "Example:\n",
    "ALTER TABLE Student_info\n",
    "ADD CGPA number;\n",
    "\n",
    "TRUNCATE :\n",
    "This command is used to remove all rows from the table, but the structure of the table still exists.\n",
    "\n",
    "Example:\n",
    "TRUNCATE TABLE Student_info;\n",
    "\n",
    "DROP :\n",
    "This command is used to remove an existing table along with its structure from the Database.\n",
    "\n",
    "Example:\n",
    "DROP TABLE Student_info;"
   ]
  },
  {
   "cell_type": "markdown",
   "id": "a661fc86-de1e-4ffe-88b7-82878130037a",
   "metadata": {},
   "source": [
    "Q3. What is DML? Explain INSERT, UPDATE, and DELETE with an example."
   ]
  },
  {
   "cell_type": "markdown",
   "id": "17be65b5-e36a-4d2a-9e67-a2f006034d36",
   "metadata": {},
   "source": [
    "DML is an abbreviation for Data Manipulation Language. Represents a collection of programming languages explicitly used to make changes to the database, such as: CRUD operations to create, read, update and delete data. Using INSERT, SELECT, UPDATE, and DELETE commands.\n",
    "\n",
    "INSERT:\n",
    "Insert command is used to insert data into a table.\n",
    "\n",
    "Example:\n",
    "Insert into Employee(Emp_id, Emp_name) values (001, “ bhanu”);\n",
    "Insert into Employee(Emp_id, Emp_name) values (002, “ hari”);\n",
    "Insert into Employee(Emp_id, Emp_name) values (003, “ bob”);\n",
    "\n",
    "DELETE:\n",
    "Delete command is used to delete records from a database table.\n",
    "\n",
    "Example:\n",
    "DELETE from Employee WHERE Emp_id=002;\n",
    "\n",
    "UPDATE:\n",
    "Update command is used to update existing data within a table.\n",
    "\n",
    "Example:\n",
    "UPDATE Employee SET Emp_name= Ram WHERE Emp_id= 001;"
   ]
  },
  {
   "cell_type": "markdown",
   "id": "a2948c33-a5db-46be-a498-3784841db19b",
   "metadata": {},
   "source": [
    "Q4.What is DQL? Explain SELECT with an example."
   ]
  },
  {
   "cell_type": "markdown",
   "id": "a69cb00d-0d75-4b07-9588-e79c7186991b",
   "metadata": {},
   "source": [
    "DQL statements are used for performing queries on the data within schema objects. The purpose of the DQL Command is to get some schema relation based on the query passed to it. We can define DQL as follows it is a component of SQL statement that allows getting data from the database and imposing order upon it.\n",
    "\n",
    "Select command allows getting the data out of the database to perform operations with it. When a SELECT is fired against a table or tables the result is compiled into a further temporary table, which is displayed or perhaps received by the program i.e. a front-end.\n",
    "\n",
    "SELECT ROLL_NO, NAME, AGE FROM Student;"
   ]
  },
  {
   "cell_type": "markdown",
   "id": "ac9215aa-ca59-4778-8fd2-dd3b94777a37",
   "metadata": {},
   "source": [
    "Q5.Explain Primary Key and Foreign Key."
   ]
  },
  {
   "cell_type": "markdown",
   "id": "c8239031-a0ed-4e2a-8127-1c7a8f5e72c5",
   "metadata": {},
   "source": [
    "The primary key is a unique or non-null key that uniquely identifies every record in a table or relation. The primary key column can't store duplicate values.\n",
    "For example, we have a table named customer with attributes such as ID, Name, and City. Only the ID column can never contain duplicate and NULL values because each customer has a unique identification number. \n",
    "\n",
    "The foreign key is a group of one or more columns in a database to uniquely identify another database record in some other table to maintain the referential integrity. It is also known as the referencing key that establishes a relationship between two different tables in a database. A foreign key always matches the primary key column in another table. It means a foreign key column in one table refers to the primary key column of another table. \n",
    "For example, we have a table named contact with attributes such as ID, Customer_Id, Customer_Info, and Type. Here we can make the Customer_Id column a foreign key."
   ]
  },
  {
   "cell_type": "markdown",
   "id": "db803f14-71e3-472e-b766-b7190c7c64db",
   "metadata": {},
   "source": [
    "Q6. Write a python code to connect MySQL to python. Explain the cursor() and execute() method."
   ]
  },
  {
   "cell_type": "code",
   "execution_count": null,
   "id": "eafb623c-a0f3-4be4-bf23-aa229aced034",
   "metadata": {},
   "outputs": [],
   "source": [
    "import mysql.connector\n",
    "mydb = mysql.connector.connect(\n",
    "  host=\"localhost\",\n",
    "  user=\"abc\",\n",
    "  password=\"password\"\n",
    ")\n",
    "print(mydb)\n",
    "mycursor = mydb.cursor()\n",
    "print(mycursor)"
   ]
  },
  {
   "cell_type": "markdown",
   "id": "aa9ce649-ee6d-4af2-a501-8fc60f06baba",
   "metadata": {},
   "source": [
    "Cursor is a Temporary Memory or Temporary Work Station. It is Allocated by Database Server at the Time of Performing DML(Data Manipulation Language) operations on Table by User. Cursors are used to store Database Tables. There are 2 types of Cursors: Implicit Cursors, and Explicit Cursors. These are explained as following below.\n",
    "\n",
    "1.Implicit Cursors:\n",
    "Implicit Cursors are also known as Default Cursors of SQL SERVER. These Cursors are allocated by SQL SERVER when the user performs DML operations.\n",
    "\n",
    "2.Explicit Cursors :\n",
    "Explicit Cursors are Created by Users whenever the user requires them. Explicit Cursors are used for Fetching data from Table in Row-By-Row Manner.\n",
    "\n",
    "The Execute method executes a specified query, SQL statement, stored procedure, or provider-specific text. The results are stored in a new Recordset object if it is a row-returning query. A closed Recordset object will be returned if it is not a row-returning query."
   ]
  },
  {
   "cell_type": "markdown",
   "id": "c58d872b-876a-4e47-b848-39f571a385a7",
   "metadata": {},
   "source": [
    "Q7. Give the order of execution of SQL clauses in an SQL query."
   ]
  },
  {
   "cell_type": "markdown",
   "id": "fb6f7b89-048b-43a3-9cc2-03a2e633f264",
   "metadata": {},
   "source": [
    "The order in which the clauses in queries are executed is as follows:\n",
    "\n",
    "1.FROM/JOIN: The FROM and/or JOIN clauses are executed first to determine the data of interest.\n",
    "\n",
    "2.WHERE: The WHERE clause is executed to filter out records that do not meet the constraints.\n",
    "\n",
    "3.GROUP BY: The GROUP BY clause is executed to group the data based on the values in one or more columns.\n",
    "\n",
    "4.HAVING: The HAVING clause is executed to remove the created grouped records that don’t meet the constraints.\n",
    "\n",
    "5.SELECT: The SELECT clause is executed to derive all desired columns and expressions.\n",
    "\n",
    "6.ORDER BY: The ORDER BY clause is executed to sort the derived values in ascending or descending order.\n",
    "\n",
    "7.LIMIT/OFFSET: Finally, the LIMIT and/or OFFSET clauses are executed to keep or skip a specified number of rows."
   ]
  }
 ],
 "metadata": {
  "kernelspec": {
   "display_name": "Python 3 (ipykernel)",
   "language": "python",
   "name": "python3"
  },
  "language_info": {
   "codemirror_mode": {
    "name": "ipython",
    "version": 3
   },
   "file_extension": ".py",
   "mimetype": "text/x-python",
   "name": "python",
   "nbconvert_exporter": "python",
   "pygments_lexer": "ipython3",
   "version": "3.10.8"
  }
 },
 "nbformat": 4,
 "nbformat_minor": 5
}
